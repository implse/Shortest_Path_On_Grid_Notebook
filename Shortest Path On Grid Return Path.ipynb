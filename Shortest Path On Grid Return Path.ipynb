{
 "cells": [
  {
   "cell_type": "markdown",
   "metadata": {},
   "source": [
    "# Shortest Path on Grid"
   ]
  },
  {
   "cell_type": "markdown",
   "metadata": {},
   "source": [
    "Shortest Path return the Path."
   ]
  },
  {
   "cell_type": "markdown",
   "metadata": {},
   "source": [
    "![title](images/Grid_Start_End_Position_8x8.png)"
   ]
  },
  {
   "cell_type": "markdown",
   "metadata": {},
   "source": [
    "## Grid Representation"
   ]
  },
  {
   "cell_type": "code",
   "execution_count": 4,
   "metadata": {},
   "outputs": [],
   "source": [
    "grid = [\n",
    "    [\".\", \".\", \".\", \"X\", \".\", \".\", \"X\", \".\"],\n",
    "    [\".\", \".\", \"X\", \".\", \"X\", \"X\", \".\", \".\"],\n",
    "    [\".\", \".\", \"X\", \"X\", \"X\", \".\", \".\", \"X\"],\n",
    "    [\"X\", \".\", \".\", \".\", \".\", \"X\", \"X\", \"X\"],\n",
    "    [\".\", \"X\", \".\", \".\", \"X\", \"X\", \"X\", \"X\"],\n",
    "    [\".\", \".\", \"X\", \".\", \".\", \".\", \"X\", \"X\"],\n",
    "    [\".\", \".\", \"X\", \"X\", \"X\", \"X\", \".\", \".\"],\n",
    "    [\".\", \"X\", \"X\", \"X\", \"X\", \"X\", \".\", \".\"]\n",
    "]"
   ]
  },
  {
   "cell_type": "markdown",
   "metadata": {},
   "source": [
    "## Walkable Cells"
   ]
  },
  {
   "cell_type": "code",
   "execution_count": 5,
   "metadata": {},
   "outputs": [],
   "source": [
    "def walkable(row, col, grid):\n",
    "    if row < 0 or row >= len(grid) or col < 0 or col >= len(grid[0]):\n",
    "        return False\n",
    "    return True if grid[row][col] != \"X\" else False"
   ]
  },
  {
   "cell_type": "markdown",
   "metadata": {},
   "source": [
    "## Get Neighbours"
   ]
  },
  {
   "cell_type": "code",
   "execution_count": 6,
   "metadata": {},
   "outputs": [],
   "source": [
    "def get_neighbours(row, col, grid):\n",
    "    # left, right, top, bottom and diagonal\n",
    "    neighbours = [(row, col - 1), (row, col + 1), (row - 1, col), (row + 1, col), (row - 1, col - 1), (row - 1, col + 1), (row + 1, col - 1), (row + 1, col + 1)]\n",
    "    return [(r, c) for r, c in neighbours if walkable(r, c, grid)]"
   ]
  },
  {
   "cell_type": "markdown",
   "metadata": {},
   "source": [
    "## Shortest Path"
   ]
  },
  {
   "cell_type": "code",
   "execution_count": 7,
   "metadata": {},
   "outputs": [],
   "source": [
    "from collections import deque\n",
    "\n",
    "# Shortest Path + return path\n",
    "def shortest_path(start, end, grid):\n",
    "    seen = set()\n",
    "    queue = deque([(start, [])])\n",
    "    path = set()\n",
    "    while queue:\n",
    "        position, path = queue.popleft()\n",
    "        new_path = path + [position]\n",
    "        if position == end:\n",
    "            return new_path\n",
    "        seen.add(position)\n",
    "        neighbours = get_neighbours(position[0], position[1], grid)\n",
    "        queue.extend((neighbour, new_path) for neighbour in neighbours if neighbour not in seen)"
   ]
  },
  {
   "cell_type": "markdown",
   "metadata": {},
   "source": [
    "## Print Grid"
   ]
  },
  {
   "cell_type": "code",
   "execution_count": null,
   "metadata": {},
   "outputs": [],
   "source": [
    "# Print grid\n",
    "def print_grid(grid):\n",
    "    for row in grid:\n",
    "        print(row)\n",
    "\n",
    "# Print grid path solution \"@\"\n",
    "def print_grid_solution(grid, path):\n",
    "    for position in path:\n",
    "        i, j = position\n",
    "        grid[i][j] = \"@\"\n",
    "    for row in grid:\n",
    "        print(row)"
   ]
  },
  {
   "cell_type": "code",
   "execution_count": null,
   "metadata": {},
   "outputs": [],
   "source": []
  }
 ],
 "metadata": {
  "kernelspec": {
   "display_name": "Python 3",
   "language": "python",
   "name": "python3"
  },
  "language_info": {
   "codemirror_mode": {
    "name": "ipython",
    "version": 3
   },
   "file_extension": ".py",
   "mimetype": "text/x-python",
   "name": "python",
   "nbconvert_exporter": "python",
   "pygments_lexer": "ipython3",
   "version": "3.7.3"
  }
 },
 "nbformat": 4,
 "nbformat_minor": 2
}
