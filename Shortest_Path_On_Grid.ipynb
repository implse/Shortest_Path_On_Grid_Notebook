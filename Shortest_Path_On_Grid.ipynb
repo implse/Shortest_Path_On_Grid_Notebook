{
 "cells": [
  {
   "cell_type": "markdown",
   "metadata": {},
   "source": [
    "# Shortest Path on a Grid"
   ]
  },
  {
   "cell_type": "markdown",
   "metadata": {},
   "source": [
    "![title](images/Grid.png)"
   ]
  },
  {
   "cell_type": "markdown",
   "metadata": {},
   "source": [
    "## Grid Representation"
   ]
  },
  {
   "cell_type": "code",
   "execution_count": 2,
   "metadata": {},
   "outputs": [],
   "source": [
    "grid = [\n",
    "['.', 'X', '.', 'X', '.'],\n",
    "['.', '.', '.', '.', '.'],\n",
    "['X', 'X', '.', 'X', 'X'],\n",
    "['X', '.', '.', '.', '.'],\n",
    "['X', 'X', '.', '.', '.']\n",
    "]"
   ]
  },
  {
   "cell_type": "markdown",
   "metadata": {},
   "source": [
    "## Walkable function"
   ]
  },
  {
   "cell_type": "code",
   "execution_count": 4,
   "metadata": {},
   "outputs": [],
   "source": [
    "# Given row and column, return whether this cell is walkable\n",
    "def walkable(row, col, grid):\n",
    "    if row < 0 or row >= len(grid):\n",
    "        return False\n",
    "    if col < 0 or col >= len(grid[0]):\n",
    "        return False\n",
    "    return True if grid[row][col] != \"X\" else False"
   ]
  },
  {
   "cell_type": "markdown",
   "metadata": {},
   "source": [
    "## Get neighbours function"
   ]
  },
  {
   "cell_type": "code",
   "execution_count": 5,
   "metadata": {},
   "outputs": [],
   "source": [
    "# Get neighbours from current position\n",
    "def get_neighbours(row, col, grid):\n",
    "    # top, left, right, bottom\n",
    "    return [(r, c) for r, c in [(row - 1, col), (row, col - 1), (row, col + 1), (row + 1, col)] if walkable(r, c, grid)]"
   ]
  },
  {
   "cell_type": "markdown",
   "metadata": {},
   "source": [
    "## Shortest Path"
   ]
  },
  {
   "cell_type": "markdown",
   "metadata": {},
   "source": [
    "Shortest Path return number of steps from start position to end position."
   ]
  },
  {
   "cell_type": "markdown",
   "metadata": {},
   "source": [
    "![title](images/Grid_Start_End_Position.png)"
   ]
  },
  {
   "cell_type": "code",
   "execution_count": 6,
   "metadata": {},
   "outputs": [],
   "source": [
    "from collections import deque"
   ]
  },
  {
   "cell_type": "code",
   "execution_count": 7,
   "metadata": {},
   "outputs": [],
   "source": [
    "def shortest_path(start, end, grid):\n",
    "    seen = set()\n",
    "    queue = deque([(start, 0)])\n",
    "    while queue:\n",
    "        position, count = queue.popleft()\n",
    "        if position == end:\n",
    "            return count\n",
    "        seen.add(position)\n",
    "        neighbours = get_neighbours(position[0], position[1], grid)\n",
    "        queue.extend((neighbour, count + 1) for neighbour in neighbours if neighbour not in seen)"
   ]
  },
  {
   "cell_type": "code",
   "execution_count": 8,
   "metadata": {},
   "outputs": [
    {
     "name": "stdout",
     "output_type": "stream",
     "text": [
      "8\n"
     ]
    }
   ],
   "source": [
    "print(shortest_path((0, 0), (4, 4), grid))"
   ]
  }
 ],
 "metadata": {
  "kernelspec": {
   "display_name": "Python 3",
   "language": "python",
   "name": "python3"
  },
  "language_info": {
   "codemirror_mode": {
    "name": "ipython",
    "version": 3
   },
   "file_extension": ".py",
   "mimetype": "text/x-python",
   "name": "python",
   "nbconvert_exporter": "python",
   "pygments_lexer": "ipython3",
   "version": "3.7.3"
  }
 },
 "nbformat": 4,
 "nbformat_minor": 2
}
